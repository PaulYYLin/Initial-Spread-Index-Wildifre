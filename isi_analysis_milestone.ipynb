{
 "cells": [
  {
   "cell_type": "markdown",
   "metadata": {},
   "source": [
    "# Personal Milestone\n",
    "\n",
    "\n",
    "## Global Fire Weather Indices - ISI using overwintered DC start-up\n",
    "Dataset: initial_spread_index_1979-2018.nc\n",
    "- Description: \\\n",
    "This dataset was developed by Natural Resources Canada using the European Centre for Medium-range Weather Forecasts (ECMWF) ERA5-HRS Reanalysis product (C3S, 2017) as inputs to the Canadian Forest Fire Danger Rating System R Package (Wang et al. 2017). \\\n",
    "ISI index is a numerical rating of the expected rate of firespread. It combines the effects of wind and FFMC on rate of spread without the influence of variable quantities of fuel.\n",
    "\n",
    "- Citation: \\\n",
    "Megan McElhinny, Piyush Jain, Justin F. Beckers, Chelene Hanes, & Mike Flannigan. (2019). Global Fire Weather Indices - ISI using overwintered DC start-up (1.0) [Data set]. Zenodo. https://doi.org/10.5281/zenodo.3540920\n",
    "\n",
    "- [![DOI](https://zenodo.org/badge/DOI/10.5281/zenodo.3540920.svg)](https://doi.org/10.5281/zenodo.3540920)"
   ]
  },
  {
   "cell_type": "code",
   "execution_count": 2,
   "metadata": {},
   "outputs": [],
   "source": [
    "import pandas as pd"
   ]
  },
  {
   "cell_type": "markdown",
   "metadata": {},
   "source": [
    "## Database Connection\n",
    "Set up and use an Azure MySQL Database to manage and share NetCDF-processed data efficiently within a group of students. This setup leverages the flexibility and scalability of Azure’s cloud services, combined with MySQL’s robust database management capabilities, to enable seamless collaboration, real-time access, and centralized data management for your project.\n",
    "\n",
    "Azure Student Account for Cost-Free Access:\n",
    "Use your Azure for Students account to access free cloud credits and services provided by Microsoft. This allows students to explore and use Azure’s platform without incurring additional costs.\n",
    "- Benefits:\n",
    "\t- Free credits (e.g., $100 credit).\n",
    "\t- Access to Azure Database for MySQL with limited resource tiers suitable for small projects.\n",
    "\t- ntegration with other Azure services (e.g., storage, analysis, and machine learning tools)."
   ]
  },
  {
   "cell_type": "code",
   "execution_count": 12,
   "metadata": {},
   "outputs": [
    {
     "name": "stdout",
     "output_type": "stream",
     "text": [
      "Connection successful!\n"
     ]
    }
   ],
   "source": [
    "# Connect to SQL Database\n",
    "# Database Secret are stored in .env File\n",
    "from sqlalchemy import create_engine, orm, func, text\n",
    "from dotenv import  find_dotenv, load_dotenv\n",
    "import os\n",
    "ENV = find_dotenv('env/azure_mysql.env')\n",
    "load_dotenv(ENV)\n",
    "USER = os.getenv('USER_')\n",
    "PASSWORD = os.getenv('PASSWORD')\n",
    "HOST = os.getenv('HOST')\n",
    "DATABASE = os.getenv('DATABASE')\n",
    "URI = f'mysql+mysqlconnector://{USER}:{PASSWORD}@{HOST}:3306/{DATABASE}'\n",
    "engine = create_engine(URI)\n",
    "\n",
    "try:\n",
    "    with engine.connect() as connection:\n",
    "        print(\"Connection successful!\")\n",
    "except Exception as e:\n",
    "    print(f\"Connection failed: {e}\")\n"
   ]
  },
  {
   "cell_type": "markdown",
   "metadata": {},
   "source": [
    "## Data PrePrcoess\n",
    "The objective is to process and analyze climate or geospatial data stored in multiple NetCDF files spanning from 2011 to 2020, extract specific data for the province of Alberta (defined by a range of latitude and longitude), and store the resulting data in a structured database format. The detailed steps are as follows:\n",
    "\n",
    "1.\tMerge NetCDF Data (2011-2020):\n",
    "- Load all NetCDF files containing geospatial or climate-related data for the years 2011 to 2020.\n",
    "- \tMerge the files into a single dataset while ensuring proper alignment of time, latitude, and longitude dimensions. Handle missing data or inconsistencies, if present.\n",
    "- \tEnsure that metadata, such as variable names and units, are consistent across all files.\n",
    "\n",
    "\n",
    "2.\tExtract Data for Alberta by Latitude and Longitude Range:\n",
    "- \tAlberta’s geographical boundaries will be defined by a specific range of latitude and longitude. Filter the merged dataset to extract data that falls within this geographic range.\n",
    "- \tTransform the data into a monthly time resolution, aggregating or interpolating the data as needed. This ensures the dataset represents monthly values for the selected region.\n",
    "\n",
    "3.  Resample Data dimension From Day to Month by Average.\n",
    "  \n",
    "4.\tStore the Processed Data in a Database:\n",
    "Design a database schema to store the extracted monthly data for Alberta. This schema should include columns for:\n",
    "- \tDate/Time (monthly resolution): To track the temporal component of the data.\n",
    "- \tLatitude and Longitude: To retain the spatial granularity of the data.\n",
    "- \tVariable Values: For each relevant variable extracted from the NetCDF files (e.g., temperature, precipitation, etc.).\n",
    "\n"
   ]
  },
  {
   "cell_type": "code",
   "execution_count": null,
   "metadata": {},
   "outputs": [],
   "source": [
    "# Import Self-defined Class for manipulating .nc data type.\n",
    "\n",
    "from nc_operation import nc_operation\n",
    "INDEX_TYPE = 'ISI'\n",
    "\n",
    "# 1. Merge Data From 2011 to 2020\n",
    "# 2. Extract Date from Predefined Longitude and Latitude Ranges of Alberta in the Class\n",
    "nco = nc_operation(file_path_pattern=f'ISI_dataset/initial_spread_index_*.nc', index_type=INDEX_TYPE, start_year=2011, end_year=2020)"
   ]
  },
  {
   "cell_type": "code",
   "execution_count": null,
   "metadata": {},
   "outputs": [],
   "source": [
    "alberta_data = nco.data\n",
    "mothly_isi = alberta_data.resample(Time='1ME').mean()\n",
    "mothly_isi = mothly_isi.to_dataframe().reset_index()\n",
    "mothly_isi.fillna(0, inplace=True)\n",
    "mothly_isi.head()"
   ]
  },
  {
   "cell_type": "code",
   "execution_count": null,
   "metadata": {},
   "outputs": [],
   "source": [
    "try:\n",
    "    with engine.connect() as connection:\n",
    "        mothly_isi.to_sql('isi_daily_data', connection, if_exists='replace',chunksize=100000, index=False)  # Use connection directly\n",
    "        print(\"Data inserted successfully!\")\n",
    "except Exception as e:\n",
    "    print(f\"Data insertion failed: {e}\")  # Print the error message\n",
    "    connection.rollback()"
   ]
  },
  {
   "cell_type": "markdown",
   "metadata": {},
   "source": [
    "\n",
    "## Initial Spread Index (ISI) Dataset Analysis\n",
    "RangeIndex: 221400 entries, 0 to 221399\n",
    "Data columns (total 5 columns):\n",
    "| Column     | Non-Null Count | Dtype          | Range\n",
    "|------------|----------------|----------------|----------------\n",
    "| Latitude   | 221,400        | float64        | [49.0, 60.0 ]\n",
    "| Longitude  | 221,400        | float64        | [-115, -105 ]\n",
    "| Time       | 221,400        | datetime64[ns] | [2011, 2020]\n",
    "| ISI        | 221,400        | float64        | [0.00, 19.10]\n",
    "| crs        | 221,400        | float64        |\n"
   ]
  },
  {
   "cell_type": "code",
   "execution_count": null,
   "metadata": {},
   "outputs": [],
   "source": [
    "with engine.connect() as connection:\n",
    "    sql = \"select * from isi_daily_data\"\n",
    "    df = pd.read_sql(sql,con=connection.connection)\n",
    "df.head()"
   ]
  },
  {
   "cell_type": "markdown",
   "metadata": {},
   "source": [
    "## Insightful Queries"
   ]
  },
  {
   "cell_type": "markdown",
   "metadata": {},
   "source": [
    "\n",
    "##### `The Average of ISI Risk Index Value in Each Month from 2011 to 2020 in Alberta.`\n",
    "- Seasonal Patterns: By analyzing monthly averages, researchers can identify high-risk wildfire months (e.g., during summer when conditions are hotter and drier) and compare trends across years.\n",
    "\n",
    "- Yearly Comparisons: Detect whether wildfire risks are increasing or decreasing over the decade, potentially correlating this with changes in climate (e.g., rising temperatures or altered precipitation patterns).\n",
    "\n",
    "- Resource Allocation: Helps wildfire management agencies prioritize resources during months with historically higher ISI risk.\n"
   ]
  },
  {
   "cell_type": "code",
   "execution_count": null,
   "metadata": {},
   "outputs": [],
   "source": [
    "# 1. The Average of ISI Risk index value in each Month from 2011 to 2020 in Alberta.\n",
    "with engine.connect() as connection:\n",
    "    avg_risk_index_of_month_query = '''\n",
    "    SELECT \n",
    "        EXTRACT(MONTH FROM Time) AS Month,\n",
    "        AVG(IFNULL(ISI,0)) AS Avg_ISI\n",
    "    FROM \n",
    "        isi_monthly_data\n",
    "    GROUP BY\n",
    "        Month;\n",
    "    '''\n",
    "    avg_risk_index_of_month_data = pd.read_sql(avg_risk_index_of_month_query,con=connection.connection, index_col='Month')\n",
    "avg_risk_index_of_month_data.T"
   ]
  },
  {
   "cell_type": "markdown",
   "metadata": {},
   "source": [
    "\n",
    "##### `The Percentage of Area with ISI Risk in Each Month from 2011 to 2020 in Alberta`\n",
    "- Geographical Coverage of Risk: Understanding how wildfire risk spreads spatially across Alberta. An increasing percentage indicates a growing problem of widespread wildfire risk.\n",
    "\n",
    "- Impact of Mitigation Efforts: Helps evaluate the effectiveness of strategies like controlled burns or forest thinning in reducing the overall area \n"
   ]
  },
  {
   "cell_type": "code",
   "execution_count": null,
   "metadata": {},
   "outputs": [],
   "source": [
    "# 2. The Percentage of Area with ISI riskness in each Month from 2011 to 2020 in Alberta \n",
    "with engine.connect() as connection:\n",
    "    percentage_of_isi_risk_area_query = '''\n",
    "    SELECT\n",
    "        EXTRACT(YEAR_MONTH FROM Time) AS YearMonth,\n",
    "        SUM(CASE WHEN ISI <> 0 THEN 1 ELSE 0 END) / COUNT(*) * 100 AS Percentage_of_Area\n",
    "    FROM \n",
    "        isi_monthly_data\n",
    "    GROUP BY \n",
    "        YearMonth\n",
    "    '''\n",
    "    percentage_of_isi_risk_area_data = pd.read_sql(percentage_of_isi_risk_area_query,con=connection.connection)\n",
    "percentage_of_isi_risk_area_data"
   ]
  },
  {
   "cell_type": "markdown",
   "metadata": {},
   "source": [
    "##### `The ISI High Risk Area Coordinates from 2011 to 2020 in Alberta`\n",
    "According to FWI System, when ISI index over 10 represents the high riskness level of initial fire spreading.\n",
    "\n",
    "- Hotspot Identification: Pinpoints areas that are consistently at high risk of wildfires, enabling targeted mitigation strategies like clearing dry vegetation or enhancing fire suppression infrastructure.\n",
    "\n",
    "- Risk Zone Mapping: Helps create detailed wildfire risk maps, which are crucial for emergency planning and response."
   ]
  },
  {
   "cell_type": "code",
   "execution_count": null,
   "metadata": {},
   "outputs": [],
   "source": [
    "# 3. The ISI High Risk Area Coordination happen from 2011 tp 2020 in Alberta\n",
    "with engine.connect() as connection:\n",
    "    high_isi_risk_query = '''\n",
    "    SELECT\n",
    "        EXTRACT(YEAR_MONTH FROM Time) AS YearMonth,\n",
    "        ISI,\n",
    "        Latitude,\n",
    "        Longitude\n",
    "    FROM \n",
    "        isi_monthly_data\n",
    "    WHERE ISI > 10\n",
    "    '''\n",
    "    high_isi_risk_query = pd.read_sql(high_isi_risk_query,con=connection.connection)\n",
    "\n",
    "high_isi_risk_query"
   ]
  },
  {
   "cell_type": "markdown",
   "metadata": {},
   "source": [
    "##### `Four Area Dimensions (NW, NE, SW, SE) ISI  index from 2011 to 2020 in Alberta`\n",
    "The ISI (Initial Spread Index) data from 2011 to 2020 in Alberta, categorized into four dimensions (likely NW, NE, SW, SE quadrants).\n",
    "\n",
    "- Identify High-Risk Zones: Analyze ISI trends in different regions (NW, NE, SW, SE) to identify which areas are more prone to wildfires during specific years or seasons.\n",
    "\n",
    "- Local Hotspots: High ISI values in specific regions (e.g., NE quadrant) can point to areas where weather, fuel conditions, or topography make wildfires more likely to spread rapidly."
   ]
  },
  {
   "cell_type": "code",
   "execution_count": null,
   "metadata": {},
   "outputs": [],
   "source": [
    "# 4. Categorize Four Area Dimensions ISI  index from 2011 tp 2020 in Alberta\n",
    "with engine.connect() as connection:\n",
    "    dims_area_data_query = '''\n",
    "    SELECT Time, ISI,\n",
    "       CASE \n",
    "           WHEN Latitude >= 54.5 AND Longitude <= -110.0 THEN 'NW'\n",
    "           WHEN Latitude >= 54.5 AND Longitude > -110.0 THEN 'NE'\n",
    "           WHEN Latitude < 54.5 AND Longitude <= -110.0 THEN 'SW'\n",
    "           WHEN Latitude < 54.5 AND Longitude > -110.0 THEN 'SE'\n",
    "       END AS Quadrant\n",
    "FROM isi_monthly_data;\n",
    "    '''\n",
    "    dims_area_data = pd.read_sql(dims_area_data_query,con=connection.connection)\n",
    "\n",
    "dims_area_data"
   ]
  },
  {
   "cell_type": "markdown",
   "metadata": {},
   "source": [
    "##### `Duration of ISI Transitions from Zero to Non-Zero and Back to Zero`\n",
    "\n",
    "- Seasonal Patterns: By analyzing the duration of ISI transitions on a seasonal basis, researchers can identify periods when wildfires are more likely to persist for extended periods (e.g., late spring to early fall), helping to pinpoint high-risk wildfire seasons.\n",
    "\n",
    "- Yearly Comparisons: Comparing the average wildfire durations across years can reveal trends such as whether wildfire events are becoming longer over time, potentially linked to climate change factors like increasing droughts or shifting weather patterns."
   ]
  },
  {
   "cell_type": "code",
   "execution_count": null,
   "metadata": {},
   "outputs": [],
   "source": [
    "# 5. Duration of ISI Transitions from Zero to Non-Zero and Back to Zero\n",
    "\n",
    "with engine.connect() as connection:\n",
    "    duration_of_cycle_query = '''\n",
    "    WITH transitions AS (\n",
    "    SELECT \n",
    "        Latitude,\n",
    "        Longitude,\n",
    "        Time,\n",
    "        ISI,\n",
    "        LAG(ISI) OVER (PARTITION BY Latitude, Longitude ORDER BY Time) AS prev_ISI,\n",
    "        LEAD(ISI) OVER (PARTITION BY Latitude, Longitude ORDER BY Time) AS next_ISI\n",
    "    FROM isi_monthly_data\n",
    "),\n",
    "event_durations AS (\n",
    "    SELECT\n",
    "        Latitude,\n",
    "        Longitude,\n",
    "        MIN(CASE WHEN prev_ISI = 0 AND ISI > 0 THEN Time END) AS start_time,\n",
    "        MAX(CASE WHEN ISI > 0 AND next_ISI = 0 THEN Time END) AS end_time\n",
    "    FROM transitions\n",
    "    GROUP BY Latitude, Longitude\n",
    ")\n",
    "SELECT\n",
    "    Latitude,\n",
    "    Longitude,\n",
    "    start_time,\n",
    "    end_time,\n",
    "    DATEDIFF(end_time, start_time) AS duration_days\n",
    "FROM event_durations\n",
    "WHERE start_time IS NOT NULL AND end_time IS NOT NULL;\n",
    "    '''\n",
    "    duration_of_cycle = pd.read_sql(duration_of_cycle_query,con=connection.connection)\n",
    "\n",
    "duration_of_cycle"
   ]
  }
 ],
 "metadata": {
  "kernelspec": {
   "display_name": "Python 3.10.5 ('env': venv)",
   "language": "python",
   "name": "python3"
  },
  "language_info": {
   "codemirror_mode": {
    "name": "ipython",
    "version": 3
   },
   "file_extension": ".py",
   "mimetype": "text/x-python",
   "name": "python",
   "nbconvert_exporter": "python",
   "pygments_lexer": "ipython3",
   "version": "3.10.5"
  },
  "orig_nbformat": 4,
  "vscode": {
   "interpreter": {
    "hash": "c1e9ce4b3714a04a1ceec89c05b58db2b32351f42b6c378972115701f4286dd2"
   }
  }
 },
 "nbformat": 4,
 "nbformat_minor": 2
}
